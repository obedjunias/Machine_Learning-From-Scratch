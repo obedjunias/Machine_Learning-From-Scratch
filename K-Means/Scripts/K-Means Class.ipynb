{
 "cells": [
  {
   "cell_type": "code",
   "execution_count": 1,
   "metadata": {},
   "outputs": [],
   "source": [
    "import numpy as np"
   ]
  },
  {
   "cell_type": "code",
   "execution_count": null,
   "metadata": {},
   "outputs": [],
   "source": [
    "class KMeans():\n",
    "    \"\"\"A simple clustering method that forms k clusters by iteratively reassigning\n",
    "    samples to the closest centroids and after that moves the centroids to the center\n",
    "    of the new formed clusters.\"\"\"\n",
    "    def __init__(self,k=3,max_iterations=300):\n",
    "        self.k = k\n",
    "        self.max_iterations = max_iterations\n",
    "    def choose_centroids(self,X):\n",
    "        std = np.std(X,axis=0)\n",
    "        mean =  np.std(X,axis=0)\n",
    "        C = np.random(self.k,X.shape[1])*std+mean\n",
    "        \n",
    "    def calculate_distance(self,X):\n",
    "            i = 1\n",
    "            for index1,c_rows in enumerate(C):\n",
    "                euclidean_dist = []\n",
    "                for index2,d_rows in enumerate(X):\n",
    "                    d1 = (c_rows[0]-d_rows[0])**2\n",
    "                    d2 = (c_rows[1] - d_rows[1])**2\n",
    "                    dist = np.sqrt(d1+d2)\n",
    "                    euclidean_dist.append(dist)\n",
    "                X[i] = euclidean_dist\n",
    "                i=i+1\n",
    "            return X\n",
    "        \n",
    "    def create_clusters(self,X):\n",
    "        for index3,d_\n",
    "        min_dist = X[i]\n",
    "        \n",
    "            \n",
    "        "
   ]
  }
 ],
 "metadata": {
  "kernelspec": {
   "display_name": "Python 3",
   "language": "python",
   "name": "python3"
  },
  "language_info": {
   "codemirror_mode": {
    "name": "ipython",
    "version": 3
   },
   "file_extension": ".py",
   "mimetype": "text/x-python",
   "name": "python",
   "nbconvert_exporter": "python",
   "pygments_lexer": "ipython3",
   "version": "3.7.1"
  }
 },
 "nbformat": 4,
 "nbformat_minor": 2
}
