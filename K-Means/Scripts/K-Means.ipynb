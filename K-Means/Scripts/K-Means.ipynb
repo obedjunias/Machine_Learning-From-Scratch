{
 "cells": [
  {
   "cell_type": "code",
   "execution_count": 1,
   "metadata": {},
   "outputs": [],
   "source": [
    "import pandas as pd\n",
    "import numpy as np\n",
    "import matplotlib.pyplot as plt\n",
    "import random"
   ]
  },
  {
   "cell_type": "code",
   "execution_count": 2,
   "metadata": {},
   "outputs": [],
   "source": [
    "df = pd.read_csv(\"../DataSets/clustering.csv\")"
   ]
  },
  {
   "cell_type": "code",
   "execution_count": 3,
   "metadata": {},
   "outputs": [
    {
     "data": {
      "text/html": [
       "<div>\n",
       "<style scoped>\n",
       "    .dataframe tbody tr th:only-of-type {\n",
       "        vertical-align: middle;\n",
       "    }\n",
       "\n",
       "    .dataframe tbody tr th {\n",
       "        vertical-align: top;\n",
       "    }\n",
       "\n",
       "    .dataframe thead th {\n",
       "        text-align: right;\n",
       "    }\n",
       "</style>\n",
       "<table border=\"1\" class=\"dataframe\">\n",
       "  <thead>\n",
       "    <tr style=\"text-align: right;\">\n",
       "      <th></th>\n",
       "      <th>Loan_ID</th>\n",
       "      <th>Gender</th>\n",
       "      <th>Married</th>\n",
       "      <th>Dependents</th>\n",
       "      <th>Education</th>\n",
       "      <th>Self_Employed</th>\n",
       "      <th>ApplicantIncome</th>\n",
       "      <th>CoapplicantIncome</th>\n",
       "      <th>LoanAmount</th>\n",
       "      <th>Loan_Amount_Term</th>\n",
       "      <th>Credit_History</th>\n",
       "      <th>Property_Area</th>\n",
       "      <th>Loan_Status</th>\n",
       "    </tr>\n",
       "  </thead>\n",
       "  <tbody>\n",
       "    <tr>\n",
       "      <th>0</th>\n",
       "      <td>LP001003</td>\n",
       "      <td>Male</td>\n",
       "      <td>Yes</td>\n",
       "      <td>1</td>\n",
       "      <td>Graduate</td>\n",
       "      <td>No</td>\n",
       "      <td>4583</td>\n",
       "      <td>1508.0</td>\n",
       "      <td>128.0</td>\n",
       "      <td>360.0</td>\n",
       "      <td>1.0</td>\n",
       "      <td>Rural</td>\n",
       "      <td>N</td>\n",
       "    </tr>\n",
       "    <tr>\n",
       "      <th>1</th>\n",
       "      <td>LP001005</td>\n",
       "      <td>Male</td>\n",
       "      <td>Yes</td>\n",
       "      <td>0</td>\n",
       "      <td>Graduate</td>\n",
       "      <td>Yes</td>\n",
       "      <td>3000</td>\n",
       "      <td>0.0</td>\n",
       "      <td>66.0</td>\n",
       "      <td>360.0</td>\n",
       "      <td>1.0</td>\n",
       "      <td>Urban</td>\n",
       "      <td>Y</td>\n",
       "    </tr>\n",
       "    <tr>\n",
       "      <th>2</th>\n",
       "      <td>LP001006</td>\n",
       "      <td>Male</td>\n",
       "      <td>Yes</td>\n",
       "      <td>0</td>\n",
       "      <td>Not Graduate</td>\n",
       "      <td>No</td>\n",
       "      <td>2583</td>\n",
       "      <td>2358.0</td>\n",
       "      <td>120.0</td>\n",
       "      <td>360.0</td>\n",
       "      <td>1.0</td>\n",
       "      <td>Urban</td>\n",
       "      <td>Y</td>\n",
       "    </tr>\n",
       "    <tr>\n",
       "      <th>3</th>\n",
       "      <td>LP001008</td>\n",
       "      <td>Male</td>\n",
       "      <td>No</td>\n",
       "      <td>0</td>\n",
       "      <td>Graduate</td>\n",
       "      <td>No</td>\n",
       "      <td>6000</td>\n",
       "      <td>0.0</td>\n",
       "      <td>141.0</td>\n",
       "      <td>360.0</td>\n",
       "      <td>1.0</td>\n",
       "      <td>Urban</td>\n",
       "      <td>Y</td>\n",
       "    </tr>\n",
       "    <tr>\n",
       "      <th>4</th>\n",
       "      <td>LP001013</td>\n",
       "      <td>Male</td>\n",
       "      <td>Yes</td>\n",
       "      <td>0</td>\n",
       "      <td>Not Graduate</td>\n",
       "      <td>No</td>\n",
       "      <td>2333</td>\n",
       "      <td>1516.0</td>\n",
       "      <td>95.0</td>\n",
       "      <td>360.0</td>\n",
       "      <td>1.0</td>\n",
       "      <td>Urban</td>\n",
       "      <td>Y</td>\n",
       "    </tr>\n",
       "  </tbody>\n",
       "</table>\n",
       "</div>"
      ],
      "text/plain": [
       "    Loan_ID Gender Married Dependents     Education Self_Employed  \\\n",
       "0  LP001003   Male     Yes          1      Graduate            No   \n",
       "1  LP001005   Male     Yes          0      Graduate           Yes   \n",
       "2  LP001006   Male     Yes          0  Not Graduate            No   \n",
       "3  LP001008   Male      No          0      Graduate            No   \n",
       "4  LP001013   Male     Yes          0  Not Graduate            No   \n",
       "\n",
       "   ApplicantIncome  CoapplicantIncome  LoanAmount  Loan_Amount_Term  \\\n",
       "0             4583             1508.0       128.0             360.0   \n",
       "1             3000                0.0        66.0             360.0   \n",
       "2             2583             2358.0       120.0             360.0   \n",
       "3             6000                0.0       141.0             360.0   \n",
       "4             2333             1516.0        95.0             360.0   \n",
       "\n",
       "   Credit_History Property_Area Loan_Status  \n",
       "0             1.0         Rural           N  \n",
       "1             1.0         Urban           Y  \n",
       "2             1.0         Urban           Y  \n",
       "3             1.0         Urban           Y  \n",
       "4             1.0         Urban           Y  "
      ]
     },
     "execution_count": 3,
     "metadata": {},
     "output_type": "execute_result"
    }
   ],
   "source": [
    "df.head()"
   ]
  },
  {
   "cell_type": "code",
   "execution_count": 61,
   "metadata": {},
   "outputs": [],
   "source": [
    "features = [\"LoanAmount\",\"ApplicantIncome\"]\n",
    "X = df[features]"
   ]
  },
  {
   "cell_type": "code",
   "execution_count": 62,
   "metadata": {},
   "outputs": [
    {
     "data": {
      "text/html": [
       "<div>\n",
       "<style scoped>\n",
       "    .dataframe tbody tr th:only-of-type {\n",
       "        vertical-align: middle;\n",
       "    }\n",
       "\n",
       "    .dataframe tbody tr th {\n",
       "        vertical-align: top;\n",
       "    }\n",
       "\n",
       "    .dataframe thead th {\n",
       "        text-align: right;\n",
       "    }\n",
       "</style>\n",
       "<table border=\"1\" class=\"dataframe\">\n",
       "  <thead>\n",
       "    <tr style=\"text-align: right;\">\n",
       "      <th></th>\n",
       "      <th>LoanAmount</th>\n",
       "      <th>ApplicantIncome</th>\n",
       "    </tr>\n",
       "  </thead>\n",
       "  <tbody>\n",
       "    <tr>\n",
       "      <th>0</th>\n",
       "      <td>128.0</td>\n",
       "      <td>4583</td>\n",
       "    </tr>\n",
       "    <tr>\n",
       "      <th>1</th>\n",
       "      <td>66.0</td>\n",
       "      <td>3000</td>\n",
       "    </tr>\n",
       "    <tr>\n",
       "      <th>2</th>\n",
       "      <td>120.0</td>\n",
       "      <td>2583</td>\n",
       "    </tr>\n",
       "    <tr>\n",
       "      <th>3</th>\n",
       "      <td>141.0</td>\n",
       "      <td>6000</td>\n",
       "    </tr>\n",
       "    <tr>\n",
       "      <th>4</th>\n",
       "      <td>95.0</td>\n",
       "      <td>2333</td>\n",
       "    </tr>\n",
       "  </tbody>\n",
       "</table>\n",
       "</div>"
      ],
      "text/plain": [
       "   LoanAmount  ApplicantIncome\n",
       "0       128.0             4583\n",
       "1        66.0             3000\n",
       "2       120.0             2583\n",
       "3       141.0             6000\n",
       "4        95.0             2333"
      ]
     },
     "execution_count": 62,
     "metadata": {},
     "output_type": "execute_result"
    }
   ],
   "source": [
    "X.head()"
   ]
  },
  {
   "cell_type": "code",
   "execution_count": 63,
   "metadata": {},
   "outputs": [
    {
     "data": {
      "image/png": "[encoded data removed]",
      "text/plain": [
       "<Figure size 432x288 with 1 Axes>"
      ]
     },
     "metadata": {
      "needs_background": "light"
     },
     "output_type": "display_data"
    }
   ],
   "source": [
    "plt.scatter(X[\"ApplicantIncome\"],X[\"LoanAmount\"],color=\"black\")\n",
    "plt.xlabel(\"Annual Income\")\n",
    "plt.ylabel(\"Loan Amount (k)\")\n",
    "plt.show()"
   ]
  },
  {
   "cell_type": "code",
   "execution_count": 64,
   "metadata": {},
   "outputs": [],
   "source": [
    "Centroid = X.sample(n=3)"
   ]
  },
  {
   "cell_type": "code",
   "execution_count": 65,
   "metadata": {},
   "outputs": [
    {
     "data": {
      "text/html": [
       "<div>\n",
       "<style scoped>\n",
       "    .dataframe tbody tr th:only-of-type {\n",
       "        vertical-align: middle;\n",
       "    }\n",
       "\n",
       "    .dataframe tbody tr th {\n",
       "        vertical-align: top;\n",
       "    }\n",
       "\n",
       "    .dataframe thead th {\n",
       "        text-align: right;\n",
       "    }\n",
       "</style>\n",
       "<table border=\"1\" class=\"dataframe\">\n",
       "  <thead>\n",
       "    <tr style=\"text-align: right;\">\n",
       "      <th></th>\n",
       "      <th>LoanAmount</th>\n",
       "      <th>ApplicantIncome</th>\n",
       "    </tr>\n",
       "  </thead>\n",
       "  <tbody>\n",
       "    <tr>\n",
       "      <th>328</th>\n",
       "      <td>95.0</td>\n",
       "      <td>3400</td>\n",
       "    </tr>\n",
       "    <tr>\n",
       "      <th>127</th>\n",
       "      <td>127.0</td>\n",
       "      <td>3418</td>\n",
       "    </tr>\n",
       "    <tr>\n",
       "      <th>287</th>\n",
       "      <td>60.0</td>\n",
       "      <td>1958</td>\n",
       "    </tr>\n",
       "  </tbody>\n",
       "</table>\n",
       "</div>"
      ],
      "text/plain": [
       "     LoanAmount  ApplicantIncome\n",
       "328        95.0             3400\n",
       "127       127.0             3418\n",
       "287        60.0             1958"
      ]
     },
     "execution_count": 65,
     "metadata": {},
     "output_type": "execute_result"
    }
   ],
   "source": [
    "Centroid"
   ]
  },
  {
   "cell_type": "code",
   "execution_count": 66,
   "metadata": {},
   "outputs": [
    {
     "data": {
      "image/png": "[encoded data removed]",
      "text/plain": [
       "<Figure size 432x288 with 1 Axes>"
      ]
     },
     "metadata": {
      "needs_background": "light"
     },
     "output_type": "display_data"
    }
   ],
   "source": [
    "plt.scatter(X[\"ApplicantIncome\"],X[\"LoanAmount\"],color=\"black\")\n",
    "plt.scatter(Centroid[\"ApplicantIncome\"],Centroid[\"LoanAmount\"],c=\"red\")\n",
    "plt.xlabel(\"Annual Income\")\n",
    "plt.ylabel(\"Loan Amount (k)\")\n",
    "plt.show()"
   ]
  },
  {
   "cell_type": "code",
   "execution_count": 67,
   "metadata": {},
   "outputs": [
    {
     "name": "stdout",
     "output_type": "stream",
     "text": [
      "LoanAmount           95.0\n",
      "ApplicantIncome    3400.0\n",
      "Name: 328, dtype: float64\n",
      "LoanAmount          127.0\n",
      "ApplicantIncome    3418.0\n",
      "Name: 127, dtype: float64\n",
      "LoanAmount           60.0\n",
      "ApplicantIncome    1958.0\n",
      "Name: 287, dtype: float64\n"
     ]
    }
   ],
   "source": [
    "for index1,row_c in Centroid.iterrows():\n",
    "    print(row_c)"
   ]
  },
  {
   "cell_type": "code",
   "execution_count": 88,
   "metadata": {},
   "outputs": [
    {
     "name": "stderr",
     "output_type": "stream",
     "text": [
      "E:\\Anaconda\\lib\\site-packages\\ipykernel_launcher.py:8: SettingWithCopyWarning: \n",
      "A value is trying to be set on a copy of a slice from a DataFrame.\n",
      "Try using .loc[row_indexer,col_indexer] = value instead\n",
      "\n",
      "See the caveats in the documentation: http://pandas.pydata.org/pandas-docs/stable/indexing.html#indexing-view-versus-copy\n",
      "  \n"
     ]
    }
   ],
   "source": [
    "for index1,c_rows in Centroid.iterrows():\n",
    "    ED = []\n",
    "    for index2,x_rows in X.iterrows():\n",
    "        d1 = (c_rows[\"ApplicantIncome\"] - x_rows[\"ApplicantIncome\"])\n",
    "        d2 = (c_rows[\"LoanAmount\"] - x_rows[\"LoanAmount\"])\n",
    "        dist = np.sqrt(d1**2 + d2**2)\n",
    "        ED.append(dist)\n",
    "    X[i] = ED\n",
    "    i+=1"
   ]
  },
  {
   "cell_type": "code",
   "execution_count": 48,
   "metadata": {},
   "outputs": [
    {
     "name": "stdout",
     "output_type": "stream",
     "text": [
      "     LoanAmount  ApplicantIncome            1            2            3\n",
      "0         128.0             4583   684.056284  2282.547699  2100.343781\n",
      "1          66.0             3000   900.319943   699.102997   517.556760\n",
      "2         120.0             2583  1317.341641   285.110505   104.403065\n",
      "3         141.0             6000  2100.619194  3699.536457  3517.369756\n",
      "4          95.0             2333  1567.007977    36.235342   150.083310\n",
      "5          70.0             3200   700.285656   899.035594   717.278886\n",
      "6         109.0             2500  1400.128923   201.400099    25.495098\n",
      "7         114.0             1853  2047.140689   449.444101   630.456977\n",
      "8          17.0             1299  2602.024212  1003.855069  1186.248288\n",
      "9         125.0             4950  1050.583171  2649.416917  2467.248265\n",
      "10        100.0             3596   304.164429  1295.186859  1113.044923\n",
      "11         76.0             3510   390.251201  1209.001654  1027.095419\n",
      "12        133.0             4887   987.936233  2586.584814  2404.384537\n",
      "13        115.0             2600  1300.240362   301.280600   119.641130\n",
      "14        104.0             7660  3760.026064  5359.063071  5177.018930\n",
      "15        116.0             2600  1300.259974   301.405043   119.854078\n",
      "16        112.0             3365   535.452145  1064.543094   882.274334\n",
      "17        122.0             2799  1101.464934   499.939996   317.616120\n",
      "18        110.0             4226   326.612921  1925.265956  1743.114741\n",
      "19         35.0             1442  2458.615261   860.075578  1042.451917\n",
      "20        120.0             3750   152.970585  1449.608568  1267.355120\n",
      "21         74.0             3167   733.174604   866.009238   684.187109\n",
      "22        106.0             4692   792.161600  2391.163943  2209.057944\n",
      "23        114.0             3500   400.719353  1199.540329  1017.283146\n",
      "24        100.0             1828  2072.024131   473.511352   655.076331\n",
      "25        144.0             3667   239.175668  1367.593507  1185.230779\n",
      "26        110.0             3748   153.310143  1447.353792  1265.158093\n",
      "27         80.0             3600   300.166620  1299.001540  1117.044762\n",
      "28         47.0             1800  2100.440192   501.958166   684.352248\n",
      "29         75.0             2400  1500.074998    99.045444    84.344532\n",
      "..          ...              ...          ...          ...          ...\n",
      "351        84.0             2667  1233.014598   366.049177   184.097800\n",
      "352       108.0             3675   225.718852  1374.327472  1192.135898\n",
      "353       132.0             5800  1900.464154  3499.416666  3317.265892\n",
      "354       120.0             4467   567.793096  2166.407164  1984.226802\n",
      "355        70.0             3333   567.352624  1032.031007   850.235262\n",
      "356       123.0             3400   501.087817  1099.920906   917.593592\n",
      "357         9.0             2378  1524.153864   103.392456   132.612217\n",
      "358       104.0             3166   734.133503   865.390663   683.143470\n",
      "359       150.0             6406  2506.718173  4105.631377  3923.458806\n",
      "360       108.0             3159   741.218591   858.524315   676.239603\n",
      "361       136.0             3087   814.300313   788.137044   605.749123\n",
      "362       110.0             3229   671.297996   928.551560   746.268048\n",
      "363       107.0             1782  2118.068224   519.809581   701.206104\n",
      "364        90.0             1836  2064.000000   465.154813   647.000000\n",
      "365        36.0             3166   735.983695   866.019053   685.131374\n",
      "366        61.0             1880  2020.208158   421.343091   603.696944\n",
      "367       146.0             2787  1114.407915   490.734144   309.114865\n",
      "368       104.0             2297  1603.061134    26.305893   186.526138\n",
      "369        70.0             2165  1735.115270   136.235091   318.628310\n",
      "370        94.0             4750   850.009412  2449.052266  2267.003529\n",
      "371       106.0             2726  1174.109024   425.921354   243.526179\n",
      "372        56.0             3000   900.641993   699.346123   518.116782\n",
      "373       142.0             3859    66.219333  1559.313952  1376.982208\n",
      "374       110.0             3833    69.921384  1532.334167  1350.148140\n",
      "375        88.0             2987   913.002191   686.072882   504.003968\n",
      "376       128.0             5703  1803.400399  3402.367411  3220.224216\n",
      "377       108.0             3232   668.242471   931.483226   749.216257\n",
      "378        71.0             2900  1000.180484   599.040900   417.432629\n",
      "379        40.0             4106   211.981131  1805.399956  1623.769996\n",
      "380       133.0             4583   684.352248  2282.662700  2100.440192\n",
      "\n",
      "[381 rows x 5 columns]\n"
     ]
    }
   ],
   "source": [
    "print(X)"
   ]
  },
  {
   "cell_type": "code",
   "execution_count": 58,
   "metadata": {},
   "outputs": [],
   "source": [
    "C = []\n",
    "for index,row in X.iterrows():\n",
    "    min_dist=row[1]\n",
    "    pos=1\n",
    "    for i in range(3):\n",
    "        if row[i+1] < min_dist:\n",
    "            min_dist = row[i+1]\n",
    "            pos=i+1\n",
    "    C.append(pos)"
   ]
  },
  {
   "cell_type": "code",
   "execution_count": 68,
   "metadata": {},
   "outputs": [
    {
     "name": "stdout",
     "output_type": "stream",
     "text": [
      "[1, 3, 3, 1, 2, 1, 3, 2, 2, 1, 1, 1, 1, 3, 1, 3, 1, 3, 1, 2, 1, 3, 1, 1, 2, 1, 1, 1, 2, 3, 1, 1, 1, 1, 1, 3, 1, 2, 3, 1, 1, 3, 2, 1, 1, 3, 3, 1, 1, 1, 1, 2, 1, 1, 1, 2, 1, 1, 1, 2, 1, 3, 3, 1, 1, 1, 3, 2, 1, 2, 1, 3, 1, 2, 1, 3, 1, 2, 1, 2, 3, 1, 2, 3, 1, 1, 1, 1, 1, 3, 2, 2, 1, 1, 2, 1, 3, 2, 3, 1, 1, 3, 2, 2, 1, 1, 1, 2, 1, 2, 2, 1, 1, 2, 2, 1, 1, 1, 2, 1, 3, 1, 1, 1, 1, 1, 3, 1, 1, 1, 3, 1, 2, 1, 1, 1, 2, 1, 3, 1, 1, 3, 1, 3, 3, 1, 1, 1, 1, 3, 1, 1, 1, 1, 1, 3, 2, 1, 3, 1, 1, 1, 2, 1, 1, 1, 1, 3, 1, 3, 3, 1, 3, 3, 1, 1, 2, 2, 3, 3, 1, 1, 3, 1, 3, 1, 1, 1, 2, 2, 3, 1, 2, 1, 1, 3, 3, 3, 3, 1, 1, 1, 2, 1, 3, 1, 3, 1, 1, 3, 1, 3, 3, 1, 1, 2, 3, 3, 3, 3, 1, 3, 1, 1, 3, 1, 1, 3, 1, 1, 3, 1, 3, 3, 1, 1, 1, 3, 1, 1, 1, 1, 1, 2, 2, 1, 3, 2, 3, 1, 3, 3, 1, 2, 3, 3, 3, 2, 1, 2, 2, 1, 2, 3, 2, 1, 1, 3, 2, 1, 3, 1, 1, 3, 3, 1, 1, 3, 1, 2, 1, 1, 1, 1, 1, 1, 2, 2, 1, 3, 1, 1, 1, 1, 1, 1, 1, 1, 3, 2, 1, 3, 1, 3, 3, 3, 2, 2, 1, 3, 3, 1, 1, 1, 3, 1, 3, 2, 3, 1, 1, 1, 1, 1, 2, 1, 2, 3, 1, 2, 3, 1, 1, 3, 1, 1, 1, 3, 1, 3, 1, 2, 1, 2, 3, 1, 3, 1, 3, 1, 1, 3, 1, 1, 1, 1, 1, 2, 3, 1, 3, 3, 1, 2, 2, 3, 2, 3, 2, 2, 1, 3, 3, 1, 1, 3, 1, 1, 3, 1, 1]\n"
     ]
    }
   ],
   "source": [
    "print(C)"
   ]
  },
  {
   "cell_type": "code",
   "execution_count": null,
   "metadata": {},
   "outputs": [],
   "source": []
  },
  {
   "cell_type": "code",
   "execution_count": 76,
   "metadata": {},
   "outputs": [
    {
     "name": "stderr",
     "output_type": "stream",
     "text": [
      "E:\\Anaconda\\lib\\site-packages\\ipykernel_launcher.py:13: SettingWithCopyWarning: \n",
      "A value is trying to be set on a copy of a slice from a DataFrame.\n",
      "Try using .loc[row_indexer,col_indexer] = value instead\n",
      "\n",
      "See the caveats in the documentation: http://pandas.pydata.org/pandas-docs/stable/indexing.html#indexing-view-versus-copy\n",
      "  del sys.path[0]\n",
      "E:\\Anaconda\\lib\\site-packages\\ipykernel_launcher.py:25: SettingWithCopyWarning: \n",
      "A value is trying to be set on a copy of a slice from a DataFrame.\n",
      "Try using .loc[row_indexer,col_indexer] = value instead\n",
      "\n",
      "See the caveats in the documentation: http://pandas.pydata.org/pandas-docs/stable/indexing.html#indexing-view-versus-copy\n"
     ]
    },
    {
     "name": "stdout",
     "output_type": "stream",
     "text": [
      "662.9356193263162\n",
      "443.932701198314\n",
      "405.84101967755225\n",
      "188.75042034296493\n",
      "212.11585654878053\n",
      "320.86544014225217\n",
      "235.63273762230665\n",
      "248.74878646215663\n",
      "125.16501318300665\n",
      "52.84741626127729\n",
      "98.54724443834282\n",
      "90.64953219227577\n",
      "18.274686272279013\n",
      "9.21023994083339\n",
      "18.345487493007468\n",
      "46.27013250786139\n",
      "0.0\n"
     ]
    }
   ],
   "source": [
    "diff = 1\n",
    "j = 0\n",
    "while(diff!=0):\n",
    "    XD=X\n",
    "    i=1\n",
    "    for index1,c_rows in Centroid.iterrows():\n",
    "        ED =[]\n",
    "        for index2,x_rows in X.iterrows():\n",
    "            d1 = (c_rows[\"ApplicantIncome\"] - x_rows[\"ApplicantIncome\"])\n",
    "            d2 = (c_rows[\"LoanAmount\"] - x_rows[\"LoanAmount\"])\n",
    "            dist = np.sqrt(d1**2 + d2**2)\n",
    "            ED.append(dist)\n",
    "        X[i] = ED\n",
    "        i+=1\n",
    "\n",
    "    C = []\n",
    "    for index,row in X.iterrows():\n",
    "        min_dist=row[1]\n",
    "        pos=1\n",
    "        for i in range(3):\n",
    "            if row[i+1] < min_dist:\n",
    "                min_dist = row[i+1]\n",
    "                pos=i+1\n",
    "        C.append(pos)\n",
    "    X[\"Cluster\"] = C\n",
    "    new_Centroids = X.groupby([\"Cluster\"]).mean()[[\"LoanAmount\",\"ApplicantIncome\"]]\n",
    "        \n",
    "    if j == 0:\n",
    "        diff=1\n",
    "        j=j+1\n",
    "    else:\n",
    "        diff = (new_Centroids['LoanAmount'] - Centroid['LoanAmount']).sum() + (new_Centroids['ApplicantIncome'] - Centroid['ApplicantIncome']).sum()\n",
    "        print(diff.sum())\n",
    "    Centroid = X.groupby([\"Cluster\"]).mean()[[\"LoanAmount\",\"ApplicantIncome\"]]"
   ]
  },
  {
   "cell_type": "code",
   "execution_count": 77,
   "metadata": {},
   "outputs": [
    {
     "data": {
      "text/html": [
       "<div>\n",
       "<style scoped>\n",
       "    .dataframe tbody tr th:only-of-type {\n",
       "        vertical-align: middle;\n",
       "    }\n",
       "\n",
       "    .dataframe tbody tr th {\n",
       "        vertical-align: top;\n",
       "    }\n",
       "\n",
       "    .dataframe thead th {\n",
       "        text-align: right;\n",
       "    }\n",
       "</style>\n",
       "<table border=\"1\" class=\"dataframe\">\n",
       "  <thead>\n",
       "    <tr style=\"text-align: right;\">\n",
       "      <th></th>\n",
       "      <th>LoanAmount</th>\n",
       "      <th>ApplicantIncome</th>\n",
       "    </tr>\n",
       "    <tr>\n",
       "      <th>Cluster</th>\n",
       "      <th></th>\n",
       "      <th></th>\n",
       "    </tr>\n",
       "  </thead>\n",
       "  <tbody>\n",
       "    <tr>\n",
       "      <th>1</th>\n",
       "      <td>109.756410</td>\n",
       "      <td>4033.596154</td>\n",
       "    </tr>\n",
       "    <tr>\n",
       "      <th>2</th>\n",
       "      <td>119.488372</td>\n",
       "      <td>6512.767442</td>\n",
       "    </tr>\n",
       "    <tr>\n",
       "      <th>3</th>\n",
       "      <td>97.472527</td>\n",
       "      <td>2497.972527</td>\n",
       "    </tr>\n",
       "  </tbody>\n",
       "</table>\n",
       "</div>"
      ],
      "text/plain": [
       "         LoanAmount  ApplicantIncome\n",
       "Cluster                             \n",
       "1        109.756410      4033.596154\n",
       "2        119.488372      6512.767442\n",
       "3         97.472527      2497.972527"
      ]
     },
     "execution_count": 77,
     "metadata": {},
     "output_type": "execute_result"
    }
   ],
   "source": [
    "Centroid"
   ]
  },
  {
   "cell_type": "code",
   "execution_count": 78,
   "metadata": {},
   "outputs": [
    {
     "data": {
      "image/png": "[encoded data removed]",
      "text/plain": [
       "<Figure size 432x288 with 1 Axes>"
      ]
     },
     "metadata": {
      "needs_background": "light"
     },
     "output_type": "display_data"
    }
   ],
   "source": [
    "plt.scatter(X[\"ApplicantIncome\"],X[\"LoanAmount\"],color=\"black\")\n",
    "plt.scatter(Centroid[\"ApplicantIncome\"],Centroid[\"LoanAmount\"],c=\"red\")\n",
    "plt.xlabel(\"Annual Income\")\n",
    "plt.ylabel(\"Loan Amount (k)\")\n",
    "plt.show()"
   ]
  },
  {
   "cell_type": "code",
   "execution_count": 91,
   "metadata": {},
   "outputs": [
    {
     "data": {
      "image/png": "[encoded data removed]",
      "text/plain": [
       "<Figure size 432x288 with 1 Axes>"
      ]
     },
     "metadata": {
      "needs_background": "light"
     },
     "output_type": "display_data"
    }
   ],
   "source": [
    "color=['blue','green','cyan']\n",
    "for k in range(3):\n",
    "    data=X[X[\"Cluster\"]==k+1]\n",
    "    plt.scatter(data[\"ApplicantIncome\"],data[\"LoanAmount\"],c=color[k])\n",
    "plt.scatter(Centroid[\"ApplicantIncome\"],Centroid[\"LoanAmount\"],c='red')\n",
    "plt.xlabel('Income')\n",
    "plt.ylabel('Loan Amount (In Thousands)')\n",
    "plt.show()"
   ]
  },
  {
   "cell_type": "code",
   "execution_count": null,
   "metadata": {},
   "outputs": [],
   "source": []
  },
  {
   "cell_type": "code",
   "execution_count": null,
   "metadata": {},
   "outputs": [],
   "source": []
  }
 ],
 "metadata": {
  "kernelspec": {
   "display_name": "Python 3",
   "language": "python",
   "name": "python3"
  },
  "language_info": {
   "codemirror_mode": {
    "name": "ipython",
    "version": 3
   },
   "file_extension": ".py",
   "mimetype": "text/x-python",
   "name": "python",
   "nbconvert_exporter": "python",
   "pygments_lexer": "ipython3",
   "version": "3.7.1"
  }
 },
 "nbformat": 4,
 "nbformat_minor": 2
}
