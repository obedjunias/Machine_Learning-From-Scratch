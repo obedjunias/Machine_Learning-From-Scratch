{
 "cells": [
  {
   "cell_type": "markdown",
   "metadata": {},
   "source": [
    "### Description\n",
    "\n",
    "The goal of resampling methods is to make the best use of your training data in order to accurately estimate the performance of a model on new unseen data.\n",
    "\n",
    "Accurate estimates of performance can then be used to help you choose which set of model parameters to use or which model to select.\n",
    "\n",
    "Once you have chosen a model, you can train for final model on the entire training dataset and start using it to make predictions.\n",
    "\n",
    "There are two common resampling methods that you can use:\n",
    "\n",
    "    A train and test split of your data.\n",
    "    k-fold cross validation.\n"
   ]
  },
  {
   "cell_type": "markdown",
   "metadata": {},
   "source": [
    "Train and Test Split\n",
    "\n",
    "The train and test split is the easiest resampling method.\n",
    "\n",
    "As such, it is the most widely used.\n",
    "\n",
    "The train and test split involves separating a dataset into two parts:\n",
    "\n",
    "    Training Dataset.\n",
    "    Test Dataset.\n",
    "\n",
    "The training dataset is used by the machine learning algorithm to train the model. The test dataset is held back and is used to evaluate the performance of the model.\n",
    "\n",
    "The rows assigned to each dataset are randomly selected. This is an attempt to ensure that the training and evaluation of a model is objective.\n",
    "\n",
    "If multiple algorithms are compared or multiple configurations of the same algorithm are compared, the same train and test split of the dataset should be used. This is to ensure that the comparison of performance is consistent.\n",
    "\n",
    "We can achieve this by seeding the random number generator the same way before splitting the data, or by holding the same split of the dataset for use by multiple algorithms.\n",
    "\n",
    "We can implement the train and test split of a dataset in a single function.\n",
    "\n",
    "Below is a function named train_test_split() to split a dataset into a train and test split. It accepts two arguments, the dataset to split as a list of lists and an optional split percentage.\n",
    "\n",
    "A default split percentage of 0.6 or 60% is used. This will assign 60% of the dataset to the training dataset and leave the remaining 40% to the test dataset. A 60/40 for train/test is a good default split of the data.\n",
    "\n",
    "The function first calculates how many rows the training set requires from the provided dataset. A copy of the original dataset is made. Random rows are selected and removed from the copied dataset and added to the train dataset until the train dataset contains the target number of rows.\n",
    "\n",
    "The rows that remain in the copy of the dataset are then returned as the test dataset."
   ]
  },
  {
   "cell_type": "code",
   "execution_count": 5,
   "metadata": {},
   "outputs": [],
   "source": [
    "from random import randrange\n",
    "def train_test_split(dataset,split=0.6):\n",
    "    train_size = len(dataset)*split\n",
    "    train = []\n",
    "    test = list(dataset)\n",
    "    while len(train) < train_size:\n",
    "        train.append(test.pop(randrange(len(test))))\n",
    "    return train,test"
   ]
  },
  {
   "cell_type": "code",
   "execution_count": 7,
   "metadata": {},
   "outputs": [],
   "source": [
    "train,test = train_test_split([[0],[1],[2],[3],[4],[5],[6],[7],[8],[9]])"
   ]
  },
  {
   "cell_type": "code",
   "execution_count": 8,
   "metadata": {},
   "outputs": [
    {
     "name": "stdout",
     "output_type": "stream",
     "text": [
      "[[4], [1], [6], [2], [0], [5]]\n",
      "[[3], [7], [8], [9]]\n"
     ]
    }
   ],
   "source": [
    "print(train)\n",
    "print(test)"
   ]
  },
  {
   "cell_type": "markdown",
   "metadata": {},
   "source": [
    "### k-fold Cross Validation Split\n",
    "\n",
    "A limitation of using the train and test split method is that you get a noisy estimate of algorithm performance.\n",
    "\n",
    "The k-fold cross validation method (also called just cross validation) is a resampling method that provides a more accurate estimate of algorithm performance.\n",
    "\n",
    "It does this by first splitting the data into k groups. The algorithm is then trained and evaluated k times and the performance summarized by taking the mean performance score. Each group of data is called a fold, hence the name k-fold cross-validation.\n",
    "\n",
    "It works by first training the algorithm on the k-1 groups of the data and evaluating it on the kth hold-out group as the test set. This is repeated so that each of the k groups is given an opportunity to be held out and used as the test set.\n",
    "\n",
    "As such, the value of k should be divisible by the number of rows in your training dataset, to ensure each of the k groups has the same number of rows.\n",
    "\n",
    "You should choose a value for k that splits the data into groups with enough rows that each group is still representative of the original dataset. A good default to use is k=3 for a small dataset or k=10 for a larger dataset. A quick way to check if the fold sizes are representative is to calculate summary statistics such as mean and standard deviation and see how much the values differ from the same statistics on the whole dataset.\n",
    "\n",
    "We can reuse what we learned in the previous section in creating a train and test split here in implementing k-fold cross validation.\n",
    "\n",
    "Instead of two groups, we must return k-folds or k groups of data.\n",
    "\n",
    "Below is a function named cross_validation_split() that implements the cross validation split of data.\n",
    "\n",
    "As before, we create a copy of the dataset from which to draw randomly chosen rows."
   ]
  },
  {
   "cell_type": "code",
   "execution_count": 10,
   "metadata": {},
   "outputs": [],
   "source": [
    "def cross_validation_split(dataset,folds=3):\n",
    "    fold_size = int(len(dataset)/folds)\n",
    "    dataset_split = []\n",
    "    dataset_copy = list(dataset)\n",
    "    for i in range(folds):\n",
    "        fold = []\n",
    "        while len(fold) < fold_size:\n",
    "            index = randrange(len(dataset_copy))\n",
    "            fold.append(dataset_copy.pop(index))\n",
    "        dataset_split.append(fold)\n",
    "    return dataset_split"
   ]
  },
  {
   "cell_type": "code",
   "execution_count": 11,
   "metadata": {},
   "outputs": [
    {
     "data": {
      "text/plain": [
       "[[[3], [2], [5]], [[7], [0], [6]], [[8], [9], [1]]]"
      ]
     },
     "execution_count": 11,
     "metadata": {},
     "output_type": "execute_result"
    }
   ],
   "source": [
    "cross_validation_split([[0],[1],[2],[3],[4],[5],[6],[7],[8],[9]])"
   ]
  },
  {
   "cell_type": "code",
   "execution_count": null,
   "metadata": {},
   "outputs": [],
   "source": []
  }
 ],
 "metadata": {
  "kernelspec": {
   "display_name": "Python 3",
   "language": "python",
   "name": "python3"
  },
  "language_info": {
   "codemirror_mode": {
    "name": "ipython",
    "version": 3
   },
   "file_extension": ".py",
   "mimetype": "text/x-python",
   "name": "python",
   "nbconvert_exporter": "python",
   "pygments_lexer": "ipython3",
   "version": "3.7.1"
  }
 },
 "nbformat": 4,
 "nbformat_minor": 4
}
