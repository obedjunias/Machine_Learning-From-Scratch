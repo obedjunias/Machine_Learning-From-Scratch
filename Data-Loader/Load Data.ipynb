{
 "cells": [
  {
   "cell_type": "markdown",
   "metadata": {},
   "source": [
    "### Load CSV File\n",
    "\n",
    "The first step is to load the CSV file.\n",
    "\n",
    "We will use the csv module that is a part of the standard library.\n",
    "\n",
    "The reader() function in the csv module takes a file as an argument.\n",
    "\n",
    "We will create a function called load_csv() to wrap this behavior that will take a filename and return our dataset. We will represent the loaded dataset as a list of lists. The first list is a list of observations or rows, and the second list is the list of column values for a given row."
   ]
  },
  {
   "cell_type": "code",
   "execution_count": 1,
   "metadata": {},
   "outputs": [],
   "source": [
    "from csv import reader"
   ]
  },
  {
   "cell_type": "code",
   "execution_count": 2,
   "metadata": {},
   "outputs": [],
   "source": [
    "def load_csv(filename):\n",
    "    with open(filename,'r') as file:\n",
    "        lines = reader(file)\n",
    "        dataset = list(lines)\n",
    "    return dataset"
   ]
  },
  {
   "cell_type": "code",
   "execution_count": 37,
   "metadata": {},
   "outputs": [],
   "source": [
    "dataset = load_csv('../Naive-Bayes/Iris.csv')[1:]"
   ]
  },
  {
   "cell_type": "markdown",
   "metadata": {},
   "source": [
    "A limitation of this function is that it will load empty lines from data files and add them to our list of rows. We can overcome this by adding rows of data one at a time to our dataset and skipping empty rows."
   ]
  },
  {
   "cell_type": "code",
   "execution_count": 5,
   "metadata": {},
   "outputs": [],
   "source": [
    "def load_csv(filename):\n",
    "    dataset = []\n",
    "    with open(filename,'r') as file:\n",
    "        csv_reader = reader(file)\n",
    "        for row in csv_reader:\n",
    "            if not row:\n",
    "                continue\n",
    "            else:\n",
    "                dataset.append(row)\n",
    "    return dataset"
   ]
  },
  {
   "cell_type": "markdown",
   "metadata": {},
   "source": [
    "### Convert String to Floats\n",
    "\n",
    "Most, if not all machine learning algorithms prefer to work with numbers.\n",
    "\n",
    "Specifically, floating point numbers are preferred.\n",
    "\n",
    "Our code for loading a CSV file returns a dataset as a list of lists, but each value is a string. We can see this if we print out one record from the dataset"
   ]
  },
  {
   "cell_type": "code",
   "execution_count": 30,
   "metadata": {},
   "outputs": [
    {
     "data": {
      "text/plain": [
       "['1', '5.1', '3.5', '1.4', '0.2', 'Iris-setosa']"
      ]
     },
     "execution_count": 30,
     "metadata": {},
     "output_type": "execute_result"
    }
   ],
   "source": [
    "data_chunk = load_csv('../Naive-Bayes/Iris.csv')[1:10]\n",
    "data_chunk[0]"
   ]
  },
  {
   "cell_type": "code",
   "execution_count": 31,
   "metadata": {},
   "outputs": [],
   "source": [
    "def str_column_to_float(dataset,column):\n",
    "    for row in dataset:\n",
    "        row[column] = float(row[column].strip())\n",
    "    return dataset\n",
    "    "
   ]
  },
  {
   "cell_type": "code",
   "execution_count": 32,
   "metadata": {},
   "outputs": [],
   "source": [
    "for i in range(5):\n",
    "    str_column_to_float(data_chunk,i)"
   ]
  },
  {
   "cell_type": "code",
   "execution_count": 33,
   "metadata": {},
   "outputs": [
    {
     "data": {
      "text/plain": [
       "[[1.0, 5.1, 3.5, 1.4, 0.2, 'Iris-setosa'],\n",
       " [2.0, 4.9, 3.0, 1.4, 0.2, 'Iris-setosa'],\n",
       " [3.0, 4.7, 3.2, 1.3, 0.2, 'Iris-setosa'],\n",
       " [4.0, 4.6, 3.1, 1.5, 0.2, 'Iris-setosa'],\n",
       " [5.0, 5.0, 3.6, 1.4, 0.2, 'Iris-setosa'],\n",
       " [6.0, 5.4, 3.9, 1.7, 0.4, 'Iris-setosa'],\n",
       " [7.0, 4.6, 3.4, 1.4, 0.3, 'Iris-setosa'],\n",
       " [8.0, 5.0, 3.4, 1.5, 0.2, 'Iris-setosa'],\n",
       " [9.0, 4.4, 2.9, 1.4, 0.2, 'Iris-setosa']]"
      ]
     },
     "execution_count": 33,
     "metadata": {},
     "output_type": "execute_result"
    }
   ],
   "source": [
    "data_chunk"
   ]
  },
  {
   "cell_type": "markdown",
   "metadata": {},
   "source": [
    "### Convert String to Integers\n",
    "\n",
    "The iris flowers dataset has columns contain numeric data.\n",
    "\n",
    "The difference is the final column, traditionally used to hold the outcome or value to be predicted for a given row. The final column in the iris flowers data is the iris flower species as a string.\n",
    "\n",
    "Download the dataset and place it in the current working directory with the file name iris.csv. Open the file and delete any empty lines at the bottom.\n",
    "\n",
    "Some machine learning algorithms prefer all values to be numeric, including the outcome or predicted value.\n",
    "\n",
    "We can convert the class value in the iris flowers dataset to an integer by creating a map.\n",
    "\n",
    "    First, we locate all of the unique class values, which happen to be: Iris-setosa, Iris-versicolor and Iris-virginica.\n",
    "    Next, we assign an integer value to each, such as: 0, 1 and 2.\n",
    "    Finally, we replace all occurrences of class string values with their corresponding integer values.\n",
    "\n",
    "Below is a function to do just that called str_column_to_int(). Like the previously introduced str_column_to_float() it operates on a single column in the dataset."
   ]
  },
  {
   "cell_type": "code",
   "execution_count": 34,
   "metadata": {},
   "outputs": [],
   "source": [
    "def str_column_to_int(dataset,column):\n",
    "    classes = [row[column] for row in dataset]\n",
    "    unique = set(classes)\n",
    "    lookup = dict()\n",
    "    for idx,cls in enumerate(unique):\n",
    "        lookup[cls] = idx\n",
    "    for row in dataset:\n",
    "        row[column] = lookup[row[column]]\n",
    "    return lookup"
   ]
  },
  {
   "cell_type": "code",
   "execution_count": 38,
   "metadata": {},
   "outputs": [
    {
     "data": {
      "text/plain": [
       "{'Iris-setosa': 0, 'Iris-versicolor': 1, 'Iris-virginica': 2}"
      ]
     },
     "execution_count": 38,
     "metadata": {},
     "output_type": "execute_result"
    }
   ],
   "source": [
    "str_column_to_int(dataset,5)"
   ]
  },
  {
   "cell_type": "code",
   "execution_count": null,
   "metadata": {},
   "outputs": [],
   "source": []
  },
  {
   "cell_type": "code",
   "execution_count": null,
   "metadata": {},
   "outputs": [],
   "source": []
  }
 ],
 "metadata": {
  "kernelspec": {
   "display_name": "Python 3",
   "language": "python",
   "name": "python3"
  },
  "language_info": {
   "codemirror_mode": {
    "name": "ipython",
    "version": 3
   },
   "file_extension": ".py",
   "mimetype": "text/x-python",
   "name": "python",
   "nbconvert_exporter": "python",
   "pygments_lexer": "ipython3",
   "version": "3.7.1"
  }
 },
 "nbformat": 4,
 "nbformat_minor": 4
}
